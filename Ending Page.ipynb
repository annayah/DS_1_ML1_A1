{
 "cells": [
  {
   "cell_type": "markdown",
   "id": "2a24053b",
   "metadata": {},
   "source": [
    "## Limitations"
   ]
  },
  {
   "cell_type": "markdown",
   "id": "899282d3",
   "metadata": {},
   "source": [
    "* While working on the Iranian Customer Churn dataset, one of the limitations realized was that I did not scale the data. Since this was the first dataset of the five that I worked on, I kept it without scaling. "
   ]
  },
  {
   "cell_type": "markdown",
   "id": "f77380c9",
   "metadata": {},
   "source": [
    "* The general issue with all of the datasets were that all of them were imbalanced with the negative class having majority. This could be a reason why the metrics for the class variable are larger for the negative class."
   ]
  },
  {
   "cell_type": "markdown",
   "id": "2061a6aa",
   "metadata": {},
   "source": [
    "* A method to balance the class variable column could be employed during preprocessing stages and check the model performance after."
   ]
  },
  {
   "cell_type": "code",
   "execution_count": null,
   "id": "3e40c43a",
   "metadata": {},
   "outputs": [],
   "source": [
    "* Outliers were not removed. If they had been perhaps some metrics could hav"
   ]
  }
 ],
 "metadata": {
  "kernelspec": {
   "display_name": "Python 3 (ipykernel)",
   "language": "python",
   "name": "python3"
  },
  "language_info": {
   "codemirror_mode": {
    "name": "ipython",
    "version": 3
   },
   "file_extension": ".py",
   "mimetype": "text/x-python",
   "name": "python",
   "nbconvert_exporter": "python",
   "pygments_lexer": "ipython3",
   "version": "3.9.12"
  }
 },
 "nbformat": 4,
 "nbformat_minor": 5
}
