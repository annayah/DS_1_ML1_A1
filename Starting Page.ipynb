{
 "cells": [
  {
   "cell_type": "markdown",
   "id": "1192ec94",
   "metadata": {},
   "source": [
    "# Machine Learning I - Assignment 1\n",
    "\n",
    "### Submitted by: Annayah Usman (18673)"
   ]
  },
  {
   "cell_type": "markdown",
   "id": "72a55af0",
   "metadata": {},
   "source": [
    "## Aim"
   ]
  },
  {
   "cell_type": "markdown",
   "id": "3440ac67",
   "metadata": {},
   "source": [
    "The goal of the assignment is to explore 5 different binary classification datasets and assess the KNN model's performances through metrics such as accuracy, precision, recall, F1-score and the AUC --all through a general pipeline. "
   ]
  },
  {
   "cell_type": "markdown",
   "id": "6adb890e",
   "metadata": {},
   "source": [
    "## Chosen Datasets"
   ]
  },
  {
   "cell_type": "markdown",
   "id": "4e7ddb33",
   "metadata": {},
   "source": [
    "All of the selected datasets are sourced from the UCI ML repository. Their names and URLs are as follows:\n",
    "\n",
    "1. **Iranian Customer Churn:** https://archive.ics.uci.edu/dataset/563/iranian+churn+dataset\n",
    "\n",
    "\n",
    "2. **Online Shoppers' Purchasing Intention:** https://archive.ics.uci.edu/dataset/468/online+shoppers+purchasing+intention+dataset\n",
    "\n",
    "\n",
    "3. **Default Credit Card:** https://archive.ics.uci.edu/dataset/350/default+of+credit+card+clients\n",
    "\n",
    "\n",
    "4. **Bank Marketing:** https://archive.ics.uci.edu/dataset/222/bank+marketing\n",
    "\n",
    "\n",
    "5. **Census Income Prediction:** https://archive.ics.uci.edu/dataset/20/census+income"
   ]
  },
  {
   "cell_type": "markdown",
   "id": "4c101baf",
   "metadata": {},
   "source": [
    "## Structure of the Assignment"
   ]
  },
  {
   "cell_type": "markdown",
   "id": "fbe5c8c7",
   "metadata": {},
   "source": [
    "The assignment ahead is divided across the 5 different datasets assuming the following general structure:\n",
    "\n",
    "1. **Identifying the Business Problem**\n",
    "\n",
    "\n",
    "2. **About the Dataset**\n",
    "\n",
    "\n",
    "3. **Importing dataset** and **Dimensions**\n",
    "\n",
    "\n",
    "4. **About the Variables** \n",
    "\n",
    "\n",
    "5. **Conversion of Datatypes**\n",
    "\n",
    "\n",
    "6. **Missing Values Detection**\n",
    "\n",
    "\n",
    "7. **Descriptive Summary Stats + Interpretation**\n",
    "\n",
    "\n",
    "8. **Boxplots + Boxplot Stats + Interpretation**\n",
    "\n",
    "\n",
    "9. **Scaling the Data*** \n",
    "\n",
    "\n",
    "10. **Bar and Frequency Plots + Interpretation**\n",
    "\n",
    "\n",
    "11. **Correlation Analysis + Interpretation**\n",
    "\n",
    "\n",
    "12. **Feature Selection**\n",
    "\n",
    "\n",
    "13. **Data Splits with Selected Features Only**\n",
    "\n",
    "\n",
    "14. **Model Evaluation without CV**\n",
    "\n",
    "\n",
    "15. **Model Evaluation with CV**\n",
    "\n",
    "\n",
    "16. **Summary of Model Results + Interpretation through 14. Test Set**\n",
    "\n",
    "\n",
    "17. **Master Function**\n",
    "\n",
    "\n",
    "18. **Limitations***"
   ]
  },
  {
   "cell_type": "markdown",
   "id": "b7166bdf",
   "metadata": {},
   "source": [
    "*9. will be shown in 3/5 datasets workings. \n",
    "\n",
    "*18. will be shown at the end."
   ]
  }
 ],
 "metadata": {
  "kernelspec": {
   "display_name": "Python 3 (ipykernel)",
   "language": "python",
   "name": "python3"
  },
  "language_info": {
   "codemirror_mode": {
    "name": "ipython",
    "version": 3
   },
   "file_extension": ".py",
   "mimetype": "text/x-python",
   "name": "python",
   "nbconvert_exporter": "python",
   "pygments_lexer": "ipython3",
   "version": "3.9.12"
  }
 },
 "nbformat": 4,
 "nbformat_minor": 5
}
